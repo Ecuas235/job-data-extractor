{
 "cells": [
  {
   "cell_type": "code",
   "execution_count": 1,
   "metadata": {},
   "outputs": [],
   "source": [
    "import requests\n",
    "import random\n",
    "import time\n",
    "\n",
    "import pandas as pd\n",
    "\n",
    "from bs4 import BeautifulSoup\n",
    "from warnings import filterwarnings\n",
    "filterwarnings('ignore')"
   ]
  },
  {
   "cell_type": "code",
   "execution_count": 2,
   "metadata": {},
   "outputs": [],
   "source": [
    "def get_random_user_agent():\n",
    "    user_agents = [\n",
    "        'Mozilla/5.0 (Windows NT 10.0; Win64; x64) AppleWebKit/537.36 (KHTML, like Gecko) Chrome/91.0.4472.124 Safari/537.36',\n",
    "        'Mozilla/5.0 (Macintosh; Intel Mac OS X 10_15_7) AppleWebKit/605.1.15 (KHTML, like Gecko) Version/14.0.3 Safari/605.1.15',\n",
    "        'Mozilla/5.0 (Linux; Android 10; Pixel 3 XL) AppleWebKit/537.36 (KHTML, like Gecko) Chrome/91.0.4472.114 Mobile Safari/537.36',\n",
    "        'Mozilla/5.0 (iPhone; CPU iPhone OS 14_0 like Mac OS X) AppleWebKit/605.1.15 (KHTML, like Gecko) Version/14.0 Mobile/15E148 Safari/604.1',\n",
    "        'Mozilla/5.0 (Windows NT 10.0; Win64; x64) AppleWebKit/537.36 (KHTML, like Gecko) Firefox/89.0',\n",
    "        'Mozilla/5.0 (X11; Linux x86_64) AppleWebKit/537.36 (KHTML, like Gecko) Chrome/91.0.4472.114 Safari/537.36'\n",
    "    ]\n",
    "    return random.choice(user_agents)\n",
    "\n",
    "def get_random_languages():\n",
    "    accept_languages = [\n",
    "        'en-US,en;q=0.5',\n",
    "        'fr-FR,fr;q=0.9,en;q=0.5',\n",
    "        'de-DE,de;q=0.9,en;q=0.5',\n",
    "        'es-ES,es;q=0.9,en;q=0.5',\n",
    "        'it-IT,it;q=0.9,en;q=0.5',\n",
    "        'ja-JP,ja;q=0.9,en;q=0.5'\n",
    "    ]\n",
    "    return random.choice(accept_languages)\n",
    "\n",
    "def get_random_referers():\n",
    "    referers = [\n",
    "        'https://www.google.com',\n",
    "        'https://www.bing.com',\n",
    "        'https://www.duckduckgo.com',\n",
    "        'https://www.yahoo.com',\n",
    "        'https://www.baidu.com'\n",
    "    ]\n",
    "    return random.choice(referers)\n",
    "\n",
    "def get_random_connection():\n",
    "    connections = ['keep-alive', 'close']\n",
    "    return random.choice(connections)\n",
    "\n",
    "def get_headers():\n",
    "    return {\n",
    "        'User-Agent': get_random_user_agent(),\n",
    "        'Accept': 'text/html,application/xhtml+xml,application/xml;q=0.9,image/webp,/;q=0.8',\n",
    "        'Accept-Language': get_random_languages(),\n",
    "        'Accept-Encoding': 'gzip, deflate, br',\n",
    "        'Connection': get_random_connection(),\n",
    "        'Referer': get_random_referers()}    "
   ]
  },
  {
   "cell_type": "code",
   "execution_count": 3,
   "metadata": {},
   "outputs": [],
   "source": [
    "url = 'https://in.indeed.com/jobs?q=AI%2FML&l=mumbai%2C+maharashtra&sc=0kf%3Aattr%28HFDVW%29%3B&vjk=18e941c64b2f6667'"
   ]
  },
  {
   "cell_type": "code",
   "execution_count": 5,
   "metadata": {},
   "outputs": [
    {
     "data": {
      "text/plain": [
       "200"
      ]
     },
     "execution_count": 5,
     "metadata": {},
     "output_type": "execute_result"
    }
   ],
   "source": [
    "session = requests.session()\n",
    "time.sleep(random.uniform(5, 10))\n",
    "response = session.get(url=url, headers=get_headers(),verify=False)\n",
    "response.status_code"
   ]
  },
  {
   "cell_type": "code",
   "execution_count": 7,
   "metadata": {},
   "outputs": [
    {
     "name": "stdout",
     "output_type": "stream",
     "text": [
      "Job Description\n",
      "\n",
      "It's fun to work in a company where people truly BELIEVE in what they are doing!\n",
      "\n",
      "We're committed to bringing passion and customer focus to the business.\n",
      "\n",
      "AI Research Engineer\n",
      "\n",
      "At Fractal Analytics, we are leveraging cutting-edge deep-learning and machine-learning based solutions to address various business problems for leading Fortune 500 companies. We are looking to hire Deep-learning / Machine-learning AI Research engineers to help build scalable DL/ML enabled systems.\n",
      "\n",
      "As an AI Research Engineer, you will be responsible for building deep learning based scalable AI infrastructure to productionize deep learning models and their end-to-end lifecycle.\n",
      "\n",
      "Your responsibilities\n",
      "\n",
      "\n",
      "Ability to understand client requirements, design and drive the solutions.\n",
      "Basic understanding of Generative AI models, Transformers, object detection, semantic and instance segmentation, key point detection and object tracking algorithms etc.\n",
      "Basic understanding of GANs, self-supervised, zero shot, few shot learning techniques.\n",
      "Excellent with Linear Algebra, Statistics and probability theory.\n",
      "High proficiency in Python programming knowledge. (Must)\n",
      "Experience with usage of frameworks like Pytorch, Tensorflow, Scikit-learn etc.\n",
      "Experience working with distributed computing.\n",
      "Ability to evaluate the latest research developments in productionizing and optimizing deep learning models and help build state of the art capabilities in these areas within Fractal.\n",
      "Ability to leverage cloud and experiment at scale (Azure / AWS / GCP)\n",
      "Experience in creating APIs for deep learning solutions using FastAPI or Flask or Django\n",
      "Experience in containerizing and orchestrating solutions using docker, docker-compose, Kubernetes etc.\n",
      "Good understanding of micro-services, REST API framework, gRPC protocols etc.\n",
      "Experience working on source control git, CI-CD pipelines using Jenkins/gitlab CI-CD\n",
      "Basic knowledge on working with remote servers and setting up development infrastructure wrt IDEs\n",
      "\n",
      "\n",
      "Good To Have\n",
      "\n",
      "\n",
      "\n",
      "Deep understanding around building distributed and scalable infrastructure using Kubernetes Deployments, Stateful set, Service, Persistence Volume/Claims etc\n",
      "Experience on working with deep learning model optimization techniques model pruning, sparsification, int-4/int-8 quantization, fp-16/bf-16 precision model conversion etc using ONNX, TensorRT and other supported tools.\n",
      "Understanding the effect of different deployment strategies on network latency, throughput and ability to design a system as per SLAs.\n",
      "\n",
      "\n",
      "We Expect You Will Have\n",
      "\n",
      "\n",
      "\n",
      "Technology savvy, updated on the latest research in DL, adaptable, so you can develop new solutions that match the evolving nature AI solutions.\n",
      "Personal drive and intellectual curiosity to do what hasn't been done before, coupled with an appreciation for overcoming challenges.\n",
      "Good communication skills\n",
      "A Bachelor's/Master's degree in computer science or a related field.\n",
      "\n",
      "\n",
      "If you like wild growth and working with happy, enthusiastic over-achievers, you'll enjoy your career with us!\n",
      "\n",
      "Not the right fit Let us know you're interested in a future opportunity by clicking Introduce Yourself in the top-right corner of the page or create an account to set up email alerts as new job postings become available that meet your interest!\n"
     ]
    }
   ],
   "source": [
    "df = pd.read_csv('../data/Jobs_foundit_2024-09-01.csv')\n",
    "print(df['Description'].iloc[3])"
   ]
  },
  {
   "cell_type": "code",
   "execution_count": null,
   "metadata": {},
   "outputs": [],
   "source": []
  }
 ],
 "metadata": {
  "kernelspec": {
   "display_name": "ey_tool",
   "language": "python",
   "name": "python3"
  },
  "language_info": {
   "codemirror_mode": {
    "name": "ipython",
    "version": 3
   },
   "file_extension": ".py",
   "mimetype": "text/x-python",
   "name": "python",
   "nbconvert_exporter": "python",
   "pygments_lexer": "ipython3",
   "version": "3.12.4"
  }
 },
 "nbformat": 4,
 "nbformat_minor": 2
}
